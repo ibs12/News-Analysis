{
 "cells": [
  {
   "cell_type": "code",
   "execution_count": 20,
   "metadata": {},
   "outputs": [
    {
     "name": "stdout",
     "output_type": "stream",
     "text": [
      "Requirement already satisfied: transformers in /Users/ibrahimallahbuksh/news_project/venv/lib/python3.9/site-packages (4.42.3)\n",
      "Requirement already satisfied: datasets in /Users/ibrahimallahbuksh/news_project/venv/lib/python3.9/site-packages (2.20.0)\n",
      "Requirement already satisfied: filelock in /Users/ibrahimallahbuksh/news_project/venv/lib/python3.9/site-packages (from transformers) (3.15.4)\n",
      "Requirement already satisfied: huggingface-hub<1.0,>=0.23.2 in /Users/ibrahimallahbuksh/news_project/venv/lib/python3.9/site-packages (from transformers) (0.23.4)\n",
      "Requirement already satisfied: numpy<2.0,>=1.17 in /Users/ibrahimallahbuksh/news_project/venv/lib/python3.9/site-packages (from transformers) (1.26.4)\n",
      "Requirement already satisfied: packaging>=20.0 in /Users/ibrahimallahbuksh/news_project/venv/lib/python3.9/site-packages (from transformers) (24.1)\n",
      "Requirement already satisfied: pyyaml>=5.1 in /Users/ibrahimallahbuksh/news_project/venv/lib/python3.9/site-packages (from transformers) (6.0.1)\n",
      "Requirement already satisfied: regex!=2019.12.17 in /Users/ibrahimallahbuksh/news_project/venv/lib/python3.9/site-packages (from transformers) (2024.5.15)\n",
      "Requirement already satisfied: requests in /Users/ibrahimallahbuksh/news_project/venv/lib/python3.9/site-packages (from transformers) (2.32.3)\n",
      "Requirement already satisfied: safetensors>=0.4.1 in /Users/ibrahimallahbuksh/news_project/venv/lib/python3.9/site-packages (from transformers) (0.4.3)\n",
      "Requirement already satisfied: tokenizers<0.20,>=0.19 in /Users/ibrahimallahbuksh/news_project/venv/lib/python3.9/site-packages (from transformers) (0.19.1)\n",
      "Requirement already satisfied: tqdm>=4.27 in /Users/ibrahimallahbuksh/news_project/venv/lib/python3.9/site-packages (from transformers) (4.66.4)\n",
      "Requirement already satisfied: pyarrow>=15.0.0 in /Users/ibrahimallahbuksh/news_project/venv/lib/python3.9/site-packages (from datasets) (16.1.0)\n",
      "Requirement already satisfied: pyarrow-hotfix in /Users/ibrahimallahbuksh/news_project/venv/lib/python3.9/site-packages (from datasets) (0.6)\n",
      "Requirement already satisfied: dill<0.3.9,>=0.3.0 in /Users/ibrahimallahbuksh/news_project/venv/lib/python3.9/site-packages (from datasets) (0.3.8)\n",
      "Requirement already satisfied: pandas in /Users/ibrahimallahbuksh/news_project/venv/lib/python3.9/site-packages (from datasets) (2.2.2)\n",
      "Requirement already satisfied: xxhash in /Users/ibrahimallahbuksh/news_project/venv/lib/python3.9/site-packages (from datasets) (3.4.1)\n",
      "Requirement already satisfied: multiprocess in /Users/ibrahimallahbuksh/news_project/venv/lib/python3.9/site-packages (from datasets) (0.70.16)\n",
      "Requirement already satisfied: fsspec<=2024.5.0,>=2023.1.0 in /Users/ibrahimallahbuksh/news_project/venv/lib/python3.9/site-packages (from fsspec[http]<=2024.5.0,>=2023.1.0->datasets) (2024.5.0)\n",
      "Requirement already satisfied: aiohttp in /Users/ibrahimallahbuksh/news_project/venv/lib/python3.9/site-packages (from datasets) (3.9.5)\n",
      "Requirement already satisfied: aiosignal>=1.1.2 in /Users/ibrahimallahbuksh/news_project/venv/lib/python3.9/site-packages (from aiohttp->datasets) (1.3.1)\n",
      "Requirement already satisfied: attrs>=17.3.0 in /Users/ibrahimallahbuksh/news_project/venv/lib/python3.9/site-packages (from aiohttp->datasets) (23.2.0)\n",
      "Requirement already satisfied: frozenlist>=1.1.1 in /Users/ibrahimallahbuksh/news_project/venv/lib/python3.9/site-packages (from aiohttp->datasets) (1.4.1)\n",
      "Requirement already satisfied: multidict<7.0,>=4.5 in /Users/ibrahimallahbuksh/news_project/venv/lib/python3.9/site-packages (from aiohttp->datasets) (6.0.5)\n",
      "Requirement already satisfied: yarl<2.0,>=1.0 in /Users/ibrahimallahbuksh/news_project/venv/lib/python3.9/site-packages (from aiohttp->datasets) (1.9.4)\n",
      "Requirement already satisfied: async-timeout<5.0,>=4.0 in /Users/ibrahimallahbuksh/news_project/venv/lib/python3.9/site-packages (from aiohttp->datasets) (4.0.3)\n",
      "Requirement already satisfied: typing-extensions>=3.7.4.3 in /Users/ibrahimallahbuksh/news_project/venv/lib/python3.9/site-packages (from huggingface-hub<1.0,>=0.23.2->transformers) (4.12.2)\n",
      "Requirement already satisfied: charset-normalizer<4,>=2 in /Users/ibrahimallahbuksh/news_project/venv/lib/python3.9/site-packages (from requests->transformers) (3.3.2)\n",
      "Requirement already satisfied: idna<4,>=2.5 in /Users/ibrahimallahbuksh/news_project/venv/lib/python3.9/site-packages (from requests->transformers) (3.7)\n",
      "Requirement already satisfied: urllib3<3,>=1.21.1 in /Users/ibrahimallahbuksh/news_project/venv/lib/python3.9/site-packages (from requests->transformers) (2.2.2)\n",
      "Requirement already satisfied: certifi>=2017.4.17 in /Users/ibrahimallahbuksh/news_project/venv/lib/python3.9/site-packages (from requests->transformers) (2024.6.2)\n",
      "Requirement already satisfied: python-dateutil>=2.8.2 in /Users/ibrahimallahbuksh/news_project/venv/lib/python3.9/site-packages (from pandas->datasets) (2.9.0.post0)\n",
      "Requirement already satisfied: pytz>=2020.1 in /Users/ibrahimallahbuksh/news_project/venv/lib/python3.9/site-packages (from pandas->datasets) (2024.1)\n",
      "Requirement already satisfied: tzdata>=2022.7 in /Users/ibrahimallahbuksh/news_project/venv/lib/python3.9/site-packages (from pandas->datasets) (2024.1)\n",
      "Requirement already satisfied: six>=1.5 in /Users/ibrahimallahbuksh/news_project/venv/lib/python3.9/site-packages (from python-dateutil>=2.8.2->pandas->datasets) (1.16.0)\n"
     ]
    }
   ],
   "source": [
    "pip install transformers datasets"
   ]
  },
  {
   "cell_type": "code",
   "execution_count": 21,
   "metadata": {},
   "outputs": [
    {
     "name": "stdout",
     "output_type": "stream",
     "text": [
      "Requirement already satisfied: seaborn in /Users/ibrahimallahbuksh/news_project/venv/lib/python3.9/site-packages (0.13.2)\n",
      "Requirement already satisfied: numpy!=1.24.0,>=1.20 in /Users/ibrahimallahbuksh/news_project/venv/lib/python3.9/site-packages (from seaborn) (1.26.4)\n",
      "Requirement already satisfied: pandas>=1.2 in /Users/ibrahimallahbuksh/news_project/venv/lib/python3.9/site-packages (from seaborn) (2.2.2)\n",
      "Requirement already satisfied: matplotlib!=3.6.1,>=3.4 in /Users/ibrahimallahbuksh/news_project/venv/lib/python3.9/site-packages (from seaborn) (3.9.0)\n",
      "Requirement already satisfied: contourpy>=1.0.1 in /Users/ibrahimallahbuksh/news_project/venv/lib/python3.9/site-packages (from matplotlib!=3.6.1,>=3.4->seaborn) (1.2.1)\n",
      "Requirement already satisfied: cycler>=0.10 in /Users/ibrahimallahbuksh/news_project/venv/lib/python3.9/site-packages (from matplotlib!=3.6.1,>=3.4->seaborn) (0.12.1)\n",
      "Requirement already satisfied: fonttools>=4.22.0 in /Users/ibrahimallahbuksh/news_project/venv/lib/python3.9/site-packages (from matplotlib!=3.6.1,>=3.4->seaborn) (4.53.0)\n",
      "Requirement already satisfied: kiwisolver>=1.3.1 in /Users/ibrahimallahbuksh/news_project/venv/lib/python3.9/site-packages (from matplotlib!=3.6.1,>=3.4->seaborn) (1.4.5)\n",
      "Requirement already satisfied: packaging>=20.0 in /Users/ibrahimallahbuksh/news_project/venv/lib/python3.9/site-packages (from matplotlib!=3.6.1,>=3.4->seaborn) (24.1)\n",
      "Requirement already satisfied: pillow>=8 in /Users/ibrahimallahbuksh/news_project/venv/lib/python3.9/site-packages (from matplotlib!=3.6.1,>=3.4->seaborn) (10.3.0)\n",
      "Requirement already satisfied: pyparsing>=2.3.1 in /Users/ibrahimallahbuksh/news_project/venv/lib/python3.9/site-packages (from matplotlib!=3.6.1,>=3.4->seaborn) (3.1.2)\n",
      "Requirement already satisfied: python-dateutil>=2.7 in /Users/ibrahimallahbuksh/news_project/venv/lib/python3.9/site-packages (from matplotlib!=3.6.1,>=3.4->seaborn) (2.9.0.post0)\n",
      "Requirement already satisfied: importlib-resources>=3.2.0 in /Users/ibrahimallahbuksh/news_project/venv/lib/python3.9/site-packages (from matplotlib!=3.6.1,>=3.4->seaborn) (6.4.0)\n",
      "Requirement already satisfied: pytz>=2020.1 in /Users/ibrahimallahbuksh/news_project/venv/lib/python3.9/site-packages (from pandas>=1.2->seaborn) (2024.1)\n",
      "Requirement already satisfied: tzdata>=2022.7 in /Users/ibrahimallahbuksh/news_project/venv/lib/python3.9/site-packages (from pandas>=1.2->seaborn) (2024.1)\n",
      "Requirement already satisfied: zipp>=3.1.0 in /Users/ibrahimallahbuksh/news_project/venv/lib/python3.9/site-packages (from importlib-resources>=3.2.0->matplotlib!=3.6.1,>=3.4->seaborn) (3.19.2)\n",
      "Requirement already satisfied: six>=1.5 in /Users/ibrahimallahbuksh/news_project/venv/lib/python3.9/site-packages (from python-dateutil>=2.7->matplotlib!=3.6.1,>=3.4->seaborn) (1.16.0)\n"
     ]
    }
   ],
   "source": [
    "!pip install seaborn\n"
   ]
  },
  {
   "cell_type": "code",
   "execution_count": 22,
   "metadata": {},
   "outputs": [
    {
     "name": "stdout",
     "output_type": "stream",
     "text": [
      "Requirement already satisfied: gensim in /Users/ibrahimallahbuksh/news_project/venv/lib/python3.9/site-packages (4.3.2)\n",
      "Requirement already satisfied: numpy>=1.18.5 in /Users/ibrahimallahbuksh/news_project/venv/lib/python3.9/site-packages (from gensim) (1.26.4)\n",
      "Requirement already satisfied: scipy>=1.7.0 in /Users/ibrahimallahbuksh/news_project/venv/lib/python3.9/site-packages (from gensim) (1.10.1)\n",
      "Requirement already satisfied: smart-open>=1.8.1 in /Users/ibrahimallahbuksh/news_project/venv/lib/python3.9/site-packages (from gensim) (7.0.4)\n",
      "Requirement already satisfied: wrapt in /Users/ibrahimallahbuksh/news_project/venv/lib/python3.9/site-packages (from smart-open>=1.8.1->gensim) (1.16.0)\n"
     ]
    }
   ],
   "source": [
    "!pip install gensim\n"
   ]
  },
  {
   "cell_type": "code",
   "execution_count": 13,
   "metadata": {},
   "outputs": [
    {
     "name": "stderr",
     "output_type": "stream",
     "text": [
      "Token indices sequence length is longer than the specified maximum sequence length for this model (1934 > 512). Running this sequence through the model will result in indexing errors\n"
     ]
    },
    {
     "data": {
      "text/plain": [
       "'NEGATIVE'"
      ]
     },
     "execution_count": 13,
     "metadata": {},
     "output_type": "execute_result"
    }
   ],
   "source": [
    "import torch\n",
    "from transformers import DistilBertTokenizer, DistilBertForSequenceClassification\n",
    "\n",
    "tokenizer = DistilBertTokenizer.from_pretrained(\"distilbert-base-uncased-finetuned-sst-2-english\")\n",
    "model = DistilBertForSequenceClassification.from_pretrained(\"distilbert-base-uncased-finetuned-sst-2-english\")\n",
    "\n",
    "inputs = tokenizer(\"\"\"Russian media brand Biden 'total failure' By BBC Monitoring Russia team Even before last night's debate, the main evening news shows on Russian TV on Thursday were speculating that Mr Biden would not be able to survive it.\"An hour and a half live on air is a test of mental and physical fitness,\" Channel One said, asserting that Mr Biden would \"find it difficult to withstand this\". Both state-owned Channel One and Rossiya 1 reported opinion polling showing that some 60% expected Mr Biden to be given a stimulant to get through the debate.Afterwards, pro-Kremlin commentators portrayed Mr Biden's performance in the debate as lacklustre. Military blog Rybar branded his performance a \"total failure\"; while the Telegram channel of the Russia in Global Affairs magazine said that Mr Biden had failed to prove that he was in \"proper physical shape\" to lead the country and that his performance \"appears to have frightened his supporters\". Rossiya 1 TV said on Friday morning that voters were concerned about Mr Biden's \"mental health\". It also highlighted Trump's attacks on Mr Biden's handling of the Ukraine war.Name-calling and insults - key moments from Biden and Trump’s debate 'Like a reality show' - Chinese media By Kerry Allen, China media analyst, BBC Monitoring Chinese media were enthused by the theatrics of last night’s debate, and many outlets highlighted that Mr Biden and Trump didn’t shake hands at the beginning of the debate and went on to launch “fierce personal attacks against each other”.The state-owned Global Times describes the debate as “like a reality show”.Chinese satirical cartoons often depict a fierce, quite literal, battle between the two candidates, but Chinese audiences enjoyed the more quirky aspects of the debate, such as the pair going “off topic to discuss their golf skills”. Generally, Chinese media want to paint a picture for audiences of general apathy and frustration among US voters at both candidates. Global Times says they were both scrutinised over their “age and stamina”; noting that on the campaign trail, Trump was “frequently mangling his sentences” and that Mr Biden “often makes verbal slip-ups”. Some outlets take aim at Trump over “lying” and Mr Biden “mumbling”. China frequently highlights growing divisions in US society and often suggests the US may descend into civil war. The overall message is that both Trump and Mr Biden are “currently facing difficulties”. After last night’s debate, many took to social media to express “concerns about America’s future”, Xinhua news agency says. Indian media highlight 'aggression' of Trump By Upasana Bhat, BBC Monitoring Prominent Indian media outlets highlighted a \"shaky\" performance by Mr Biden and \"aggression\" by Trump in their coverage of the debate. Analysing the \"key takeaways\", a report on Hindustan Times newspaper's website described the debate as a \"high stake face-off that will turn the tide for rest of the campaign\". It said that Mr Biden appeared to be \"struggling and even froze several times\". Trump showed \"more aggression\" and \"capitalised on Biden’s missteps\" such as during a discussion on immigration, it added. Some media outlets picked up on Trump's claim Mr Biden was getting \"paid by China\". \"'Manchurian Candidate, Paid By China': Trump's Big Charge Against Biden,\" read a headline on the NDTV channel's website. A report on Firstpost website noted that climate change was a topic where India and China figured in the debate. The US election result is not expected to change India-US ties much as Prime Minister Narendra Modi - who's just started a third term in power - shares a good rapport with both Mr Biden and Trump. Israel media talks of Biden 'weakness' By Shaina Oppenheimer, BBC Monitoring In Israel, media agreed that Mr Biden looked “weak”, and theorised how a Trump presidential win would affect the ongoing Gaza war. During the debate, Trump said if he was president, the 7 October Hamas-led attack on Israel would not have happened. Media highlighted Trump’s pro-Israel credentials as he accused Mr Biden of weakness: “He’s become like a Palestinian. But they don’t like him. Because he’s a very bad Palestinian. He’s a very weak one,” Trump said. Barak Ravid, the diplomatic correspondent for the Walla news site, said that Mr Biden was \"unfocused” on the conflict. \"He failed to explain the extent of his support for Israel and it was possible for Trump to attack him, and present him as someone who is trying to prevent Israel from eliminating Hamas,\" Ravid said. Ynet’s veteran defence analyst, Ron Ben-Yishai, said: \"Trump is now seen as a candidate whose victory in the presidential elections is almost certain, and all the actors and elements, from Russia and Ukraine to Israel and Saudi Arabia, and also Iran, will conduct themselves from now on according to this assumption.\" Ben-Yishai said certain elements in Israel ”are already rubbing their hands with joy” at the prospect of a second Trump presidency. Latin America media say Biden 'hesitant and confused' By Pascal Fletcher, BBC Monitoring, Miami Latin America's media were riveted by what they called the \"tense\" presidential debate, highlighting their rancorous exchanges over immigration, the economy, abortion and global politics. Many media pundits in the region saw Trump succeeding in stoking doubts about Mr Biden's age by pummelling him energetically on issues sensitive to US voters, such as inflation and immigration. \"Trump corners Biden in tense debate,\" was how leading Brazilian daily Folha de Sao Paulo headlined its initial report. Mr Biden’s “hesitant and confused performance… could radically change the scenario of the elections\", Folha added. Posting on X, prominent Mexican journalist Leon Krauze drew a similar conclusion, saying Mr Biden \"stumbled, lost his thread and was incapable of showing up the lies of his rival\". Meanwhile, Argentina’s La Nacion said that \"the Democrat president was not able to dispel the doubts about his age and his health, and he set off alarms in his party\". Colombian daily El Tiempo saw the exchanges between Trump and Mr Biden characterised by \"insults, jibes and few proposals\" in which \"neither of the two appeared to overcome the concerns over their advanced age\". “The debate shows Trump strong and Biden weak,\" was how Brazilian daily O Estado de S. Paulo summed up one analysis. \"Biden self-destructed in front of the American public and the world... Biden debated desperately badly,\" Brazilian analyst Demetrio Magnoli said on the popular G1 news website. Mexican media cite 'nest of rats' comment by Trump By Pascal Fletcher, BBC Monitoring, Miami In Mexico, media tend to be wary of calls from US politicians for drastic measures to stem the flow of migrants and illicit drugs, so reporting on the debate homed in on the repeated clashes over immigration, mostly consisting of Trump slamming what he called Mr Biden's failure to secure the border. Left-wing Mexican daily La Jornada highlighted the debate \"clash over migration and the economy\". \"During the first presidential debate, ex-President Donald Trump criticised the immigration policy of the Joe Biden Government and said that migrants would have to be removed from the country for alleged crimes committed against Americans,\" Mexican daily Reforma told its readers. In its coverage, Mexican news magazine Proceso focused on Trump asserting that the US had become a \"nest of rats\" because he said Mr Biden's immigration policies had \"opened the door to criminals, murderers and rapists\". Turkish media: New Trump era is approaching By William Armstrong, BBC Monitoring Turkey specialist, Istanbul Turkish media outlets and social media users criticised Mr Biden’s “poor” debate performance, which many said led to “panic” among the Democrats. \"Biden had difficulty understanding the questions and hesitated when answering,\" Hurriyet newspaper said, describing the debate as a \"disaster\" for Biden. Academic Hilmi Bolatoglu said in a post on X that Mr Biden’s performance strengthened indications that a “new Trump era is approaching”. Coverage also raised eyebrows about the general quality of the debate. \"There were many gaffes in the 90-minute debate. Insults and mockery flew in the air, Biden had several hiccups and Trump gave a lot of misinformation,\" Milliyet newspaper said in a report. “Looking at… the list of lies and distortions that both leaders told, one wonders which of them American voters will elect to wreak havoc on the world,” veteran journalist Murat Yetkin said on his YouTube channel. Many pundits in Turkey have long been cool on Mr Biden’s presidency, accusing him of “hypocrisy” on the Israel-Gaza war and voicing doubt about his emphasis on defending the “liberal international order”\n",
    ".\"\"\", return_tensors=\"pt\")\n",
    "with torch.no_grad():\n",
    "    logits = model(**inputs).logits\n",
    "\n",
    "predicted_class_id = logits.argmax().item()\n",
    "model.config.id2label[predicted_class_id]"
   ]
  },
  {
   "cell_type": "code",
   "execution_count": 14,
   "metadata": {},
   "outputs": [
    {
     "name": "stderr",
     "output_type": "stream",
     "text": [
      "Token indices sequence length is longer than the specified maximum sequence length for this model (2018 > 512). Running this sequence through the model will result in indexing errors\n"
     ]
    },
    {
     "name": "stdout",
     "output_type": "stream",
     "text": [
      "very negative\n"
     ]
    }
   ],
   "source": [
    "import torch\n",
    "from transformers import AutoTokenizer, AutoModelForSequenceClassification\n",
    "\n",
    "# Use the multi-class sentiment model\n",
    "tokenizer = AutoTokenizer.from_pretrained(\"nlptown/bert-base-multilingual-uncased-sentiment\")\n",
    "model = AutoModelForSequenceClassification.from_pretrained(\"nlptown/bert-base-multilingual-uncased-sentiment\")\n",
    "\n",
    "# Tokenize the input\n",
    "inputs = tokenizer(\"\"\"Russian media brand Biden 'total failure' By BBC Monitoring Russia team Even before last night's debate, the main evening news shows on Russian TV on Thursday were speculating that Mr Biden would not be able to survive it.\"An hour and a half live on air is a test of mental and physical fitness,\" Channel One said, asserting that Mr Biden would \"find it difficult to withstand this\". Both state-owned Channel One and Rossiya 1 reported opinion polling showing that some 60% expected Mr Biden to be given a stimulant to get through the debate.Afterwards, pro-Kremlin commentators portrayed Mr Biden's performance in the debate as lacklustre. Military blog Rybar branded his performance a \"total failure\"; while the Telegram channel of the Russia in Global Affairs magazine said that Mr Biden had failed to prove that he was in \"proper physical shape\" to lead the country and that his performance \"appears to have frightened his supporters\". Rossiya 1 TV said on Friday morning that voters were concerned about Mr Biden's \"mental health\". It also highlighted Trump's attacks on Mr Biden's handling of the Ukraine war.Name-calling and insults - key moments from Biden and Trump’s debate 'Like a reality show' - Chinese media By Kerry Allen, China media analyst, BBC Monitoring Chinese media were enthused by the theatrics of last night’s debate, and many outlets highlighted that Mr Biden and Trump didn’t shake hands at the beginning of the debate and went on to launch “fierce personal attacks against each other”.The state-owned Global Times describes the debate as “like a reality show”.Chinese satirical cartoons often depict a fierce, quite literal, battle between the two candidates, but Chinese audiences enjoyed the more quirky aspects of the debate, such as the pair going “off topic to discuss their golf skills”. Generally, Chinese media want to paint a picture for audiences of general apathy and frustration among US voters at both candidates. Global Times says they were both scrutinised over their “age and stamina”; noting that on the campaign trail, Trump was “frequently mangling his sentences” and that Mr Biden “often makes verbal slip-ups”. Some outlets take aim at Trump over “lying” and Mr Biden “mumbling”. China frequently highlights growing divisions in US society and often suggests the US may descend into civil war. The overall message is that both Trump and Mr Biden are “currently facing difficulties”. After last night’s debate, many took to social media to express “concerns about America’s future”, Xinhua news agency says. Indian media highlight 'aggression' of Trump By Upasana Bhat, BBC Monitoring Prominent Indian media outlets highlighted a \"shaky\" performance by Mr Biden and \"aggression\" by Trump in their coverage of the debate. Analysing the \"key takeaways\", a report on Hindustan Times newspaper's website described the debate as a \"high stake face-off that will turn the tide for rest of the campaign\". It said that Mr Biden appeared to be \"struggling and even froze several times\". Trump showed \"more aggression\" and \"capitalised on Biden’s missteps\" such as during a discussion on immigration, it added. Some media outlets picked up on Trump's claim Mr Biden was getting \"paid by China\". \"'Manchurian Candidate, Paid By China': Trump's Big Charge Against Biden,\" read a headline on the NDTV channel's website. A report on Firstpost website noted that climate change was a topic where India and China figured in the debate. The US election result is not expected to change India-US ties much as Prime Minister Narendra Modi - who's just started a third term in power - shares a good rapport with both Mr Biden and Trump. Israel media talks of Biden 'weakness' By Shaina Oppenheimer, BBC Monitoring In Israel, media agreed that Mr Biden looked “weak”, and theorised how a Trump presidential win would affect the ongoing Gaza war. During the debate, Trump said if he was president, the 7 October Hamas-led attack on Israel would not have happened. Media highlighted Trump’s pro-Israel credentials as he accused Mr Biden of weakness: “He’s become like a Palestinian. But they don’t like him. Because he’s a very bad Palestinian. He’s a very weak one,” Trump said. Barak Ravid, the diplomatic correspondent for the Walla news site, said that Mr Biden was \"unfocused” on the conflict. \"He failed to explain the extent of his support for Israel and it was possible for Trump to attack him, and present him as someone who is trying to prevent Israel from eliminating Hamas,\" Ravid said. Ynet’s veteran defence analyst, Ron Ben-Yishai, said: \"Trump is now seen as a candidate whose victory in the presidential elections is almost certain, and all the actors and elements, from Russia and Ukraine to Israel and Saudi Arabia, and also Iran, will conduct themselves from now on according to this assumption.\" Ben-Yishai said certain elements in Israel ”are already rubbing their hands with joy” at the prospect of a second Trump presidency. Latin America media say Biden 'hesitant and confused' By Pascal Fletcher, BBC Monitoring, Miami Latin America's media were riveted by what they called the \"tense\" presidential debate, highlighting their rancorous exchanges over immigration, the economy, abortion and global politics. Many media pundits in the region saw Trump succeeding in stoking doubts about Mr Biden's age by pummelling him energetically on issues sensitive to US voters, such as inflation and immigration. \"Trump corners Biden in tense debate,\" was how leading Brazilian daily Folha de Sao Paulo headlined its initial report. Mr Biden’s “hesitant and confused performance… could radically change the scenario of the elections\", Folha added. Posting on X, prominent Mexican journalist Leon Krauze drew a similar conclusion, saying Mr Biden \"stumbled, lost his thread and was incapable of showing up the lies of his rival\". Meanwhile, Argentina’s La Nacion said that \"the Democrat president was not able to dispel the doubts about his age and his health, and he set off alarms in his party\". Colombian daily El Tiempo saw the exchanges between Trump and Mr Biden characterised by \"insults, jibes and few proposals\" in which \"neither of the two appeared to overcome the concerns over their advanced age\". “The debate shows Trump strong and Biden weak,\" was how Brazilian daily O Estado de S. Paulo summed up one analysis. \"Biden self-destructed in front of the American public and the world... Biden debated desperately badly,\" Brazilian analyst Demetrio Magnoli said on the popular G1 news website. Mexican media cite 'nest of rats' comment by Trump By Pascal Fletcher, BBC Monitoring, Miami In Mexico, media tend to be wary of calls from US politicians for drastic measures to stem the flow of migrants and illicit drugs, so reporting on the debate homed in on the repeated clashes over immigration, mostly consisting of Trump slamming what he called Mr Biden's failure to secure the border. Left-wing Mexican daily La Jornada highlighted the debate \"clash over migration and the economy\". \"During the first presidential debate, ex-President Donald Trump criticised the immigration policy of the Joe Biden Government and said that migrants would have to be removed from the country for alleged crimes committed against Americans,\" Mexican daily Reforma told its readers. In its coverage, Mexican news magazine Proceso focused on Trump asserting that the US had become a \"nest of rats\" because he said Mr Biden's immigration policies had \"opened the door to criminals, murderers and rapists\". Turkish media: New Trump era is approaching By William Armstrong, BBC Monitoring Turkey specialist, Istanbul Turkish media outlets and social media users criticised Mr Biden’s “poor” debate performance, which many said led to “panic” among the Democrats. \"Biden had difficulty understanding the questions and hesitated when answering,\" Hurriyet newspaper said, describing the debate as a \"disaster\" for Biden. Academic Hilmi Bolatoglu said in a post on X that Mr Biden’s performance strengthened indications that a “new Trump era is approaching”. Coverage also raised eyebrows about the general quality of the debate. \"There were many gaffes in the 90-minute debate. Insults and mockery flew in the air, Biden had several hiccups and Trump gave a lot of misinformation,\" Milliyet newspaper said in a report. “Looking at… the list of lies and distortions that both leaders told, one wonders which of them American voters will elect to wreak havoc on the world,” veteran journalist Murat Yetkin said on his YouTube channel. Many pundits in Turkey have long been cool on Mr Biden’s presidency, accusing him of “hypocrisy” on the Israel-Gaza war and voicing doubt about his emphasis on defending the “liberal international order”\n",
    ".\"\"\", return_tensors=\"pt\")\n",
    "# with torch.no_grad():\n",
    "#     logits = model(**inputs).logits\n",
    "\n",
    "# Get the predicted class\n",
    "predicted_class_id = logits.argmax().item()\n",
    "label_map = {0: 'very negative', 1: 'negative', 2: 'neutral', 3: 'positive', 4: 'very positive'}\n",
    "sentiment = label_map[predicted_class_id]\n",
    "\n",
    "print(sentiment)\n"
   ]
  },
  {
   "cell_type": "code",
   "execution_count": 18,
   "metadata": {},
   "outputs": [
    {
     "name": "stderr",
     "output_type": "stream",
     "text": [
      "Token indices sequence length is longer than the specified maximum sequence length for this model (1241 > 512). Running this sequence through the model will result in indexing errors\n"
     ]
    },
    {
     "name": "stdout",
     "output_type": "stream",
     "text": [
      "['very negative', 'positive', 'positive']\n"
     ]
    }
   ],
   "source": [
    "import torch\n",
    "from transformers import AutoTokenizer, AutoModelForSequenceClassification\n",
    "\n",
    "# Use the multi-class sentiment model\n",
    "tokenizer = AutoTokenizer.from_pretrained(\"nlptown/bert-base-multilingual-uncased-sentiment\")\n",
    "model = AutoModelForSequenceClassification.from_pretrained(\"nlptown/bert-base-multilingual-uncased-sentiment\")\n",
    "\n",
    "def get_sentiment(text):\n",
    "    inputs = tokenizer(text, return_tensors=\"pt\", truncation=True, max_length=512)\n",
    "    with torch.no_grad():\n",
    "        logits = model(**inputs).logits\n",
    "    predicted_class_id = logits.argmax().item()\n",
    "    label_map = {0: 'very negative', 1: 'negative', 2: 'neutral', 3: 'positive', 4: 'very positive'}\n",
    "    return label_map[predicted_class_id]\n",
    "\n",
    "# Split the text into chunks\n",
    "def split_into_chunks(text, chunk_size=512):\n",
    "    tokens = tokenizer.tokenize(text)\n",
    "    chunks = [tokens[i:i + chunk_size] for i in range(0, len(tokens), chunk_size)]\n",
    "    return [tokenizer.convert_tokens_to_string(chunk) for chunk in chunks]\n",
    "\n",
    "# Analyze sentiment for each chunk and aggregate the results\n",
    "def analyze_sentiment(text):\n",
    "    chunks = split_into_chunks(text)\n",
    "    sentiments = [get_sentiment(chunk) for chunk in chunks]\n",
    "    return sentiments\n",
    "\n",
    "text = \"\"\"LOS ANGELES (KABC) -- Homelessness in the city of Los Angeles is down for the first time in six years, and this year is the first time the city has seen a double-digit decrease in street homelessness in nearly a decade.\n",
    "\n",
    "The Los Angeles Homeless Services Authority, a joint powers agency of the city and county of L.A., announced the numbers from the Greater Los Angeles Homeless Count during a Friday morning news conference, detailing data that was gathered during an annual point-in-time survey conducted by hundreds of volunteers all across the region from Jan. 24- 26.\n",
    "\n",
    "Top results from 2024 homeless count for city of Los Angeles\n",
    "Homelessness in L.A. is down for the first time in six years. There were 45,252 unhoused individuals in the city in 2024 compared to 46,260 in 2023, a drop of 2.2%\n",
    "symbol\n",
    "\n",
    "\n",
    "\n",
    "Unsheltered homelessness decreased by approximately 10.7% - that's the first double-digit decrease in at least nine years, according to the city.\n",
    "38% decrease in makeshift shelters\n",
    "Shelter count increased by 17.7%\n",
    "\n",
    "\"For so many years, the count has shown increases in homelessness, and we have all felt that in our neighborhoods. But we leaned into change. And we have changed the trajectory of this crisis and have moved L.A. in a new direction,\" said Mayor Karen Bass in a statement. \"There is nothing we cannot do by taking on the status quo, putting politics aside, and rolling up our sleeves to work together. I want to thank the City Council, the County Board of Supervisors, LAHSA, our state, federal and community partners and our service provider partners for locking arms to confront this crisis with the urgency that it requires. This is not the end, it is the beginning - and we will build on this progress, together.\"\n",
    "\n",
    "What about homelessness in L.A. County?\n",
    "According to the report, there were 75,312 unhoused people in the county in 2024 compared to 75,518 in 2023, a dip of 0.27%;\n",
    "\n",
    "There was also a reduction in unsheltered homelessness in L.A. County, with a 5.1% decrease compared to last year, while the shelter count increased by 12.7%.\n",
    "\n",
    "Officials attributed the downward trends to \"unprecedented policy alignment and investments\" made by the city, county, state and federal governments, according to Paul Rubenstein, LAHSA deputy chief of external relations.\n",
    "\n",
    "With more unhoused individuals entering shelter or other forms of temporary housing, Rubenstein said, officials are \"cautiously optimistic about the direction of homelessness across L.A. County\" and are in a position to move more people off the streets and into permanent housing.\n",
    "\n",
    "\n",
    "L.A. County Supervisor Janice Hahn, meanwhile, released a statement saying, \"For the first time in years, the number of people sleeping on our streets is down and the number of people in our shelters is up. We have focused on shelters and we are doing a better job convincing people to come inside. The next step is building more permanent supportive housing and investing in long- term solutions to this crisis.\"\n",
    "\n",
    "The count also noted a reduction in chronic homelessness in the L.A. Continuum of Care, covering most of L.A. County except the cities of Long Beach, Pasadena and Glendale. There were 6.8% fewer people experiencing chronic homelessness -- a term used to describe individuals who have been homeless for more than a year while struggling with a disabling condition -- compared to 2023, the report said. Of those, some 9.4% were unsheltered while 7.5% more were in shelters.\n",
    "\n",
    "\"Our coordinated efforts are moving the needle and we have to stick together in addition to moving people into interim housing,\" Rubenstein said. \"The rehousing system also gained significant momentum this year. We made a breaking 28,000 permanent housing placements.\"\n",
    "\n",
    "He added, \"At this rate, if we could stop anyone else from becoming homeless today, we could end homelessness in just a few years.\"\n",
    "\n",
    "In addition, the 2024 count showed family homelessness increased by 2.2%, though many families are in temporary housing. Among transition-age youth -- individuals coming out of the foster system between the ages of 16-24 -- homelessness decreased by 16.2% and veteran homelessness decreased by 22.9%.\n",
    "\n",
    "\n",
    "LAHSA reported that about 22% of unhoused individuals report experiencing serious mental illness, while another 24% of unhoused individuals report experiencing substance use disorder -- both figures decreased compared to 2023 and 2022.\n",
    "\n",
    "Following the results of the 2023 Homeless Count, L.A county and city officials committed to a collaborative approach to reducing homelessness and bringing unhoused individuals into temporary and permanent housing.\n",
    "\n",
    "In December 2022, Bass launched her Inside Safe initiative in an effort to reduce tents and other encampments across city streets and bring unhoused individuals into temporary housing. Bass and the L.A. City Council have also implemented programs aimed at bolstering housing production, increasing shelter beds and sustaining tiny home villages, interim housing sites and other housing facilities with the intent of placing unhoused individuals into permanent housing.\n",
    "\n",
    "County officials launched a similar program to that of Inside Safe, known as Pathway Home, in 2023.\n",
    "\n",
    "LASHA officials noted that Measure HHH -- a $1.2 billion bond measure approved by L.A. voters in 2016 -- has played a significant role in building supportive and affordable housing, which in part led to the results seen in the 2024 Homeless Count.\n",
    "\n",
    "City News Service, Inc. contributed to this report.\"\"\"\n",
    "\n",
    "sentiments = analyze_sentiment(text)\n",
    "\n",
    "print(sentiments)\n"
   ]
  },
  {
   "cell_type": "code",
   "execution_count": 19,
   "metadata": {},
   "outputs": [
    {
     "name": "stdout",
     "output_type": "stream",
     "text": [
      "Overall sentiment: positive\n"
     ]
    }
   ],
   "source": [
    "from collections import Counter\n",
    "\n",
    "def aggregate_sentiments(sentiments):\n",
    "    sentiment_counts = Counter(sentiments)\n",
    "    most_common_sentiment = sentiment_counts.most_common(1)[0][0]\n",
    "    return most_common_sentiment\n",
    "\n",
    "overall_sentiment = aggregate_sentiments(sentiments)\n",
    "print(f\"Overall sentiment: {overall_sentiment}\")\n"
   ]
  },
  {
   "cell_type": "code",
   "execution_count": null,
   "metadata": {},
   "outputs": [],
   "source": [
    "\"\"\"LOS ANGELES (KABC) -- Homelessness in the city of Los Angeles is down for the first time in six years, and this year is the first time the city has seen a double-digit decrease in street homelessness in nearly a decade.\n",
    "\n",
    "The Los Angeles Homeless Services Authority, a joint powers agency of the city and county of L.A., announced the numbers from the Greater Los Angeles Homeless Count during a Friday morning news conference, detailing data that was gathered during an annual point-in-time survey conducted by hundreds of volunteers all across the region from Jan. 24- 26.\n",
    "\n",
    "Top results from 2024 homeless count for city of Los Angeles\n",
    "Homelessness in L.A. is down for the first time in six years. There were 45,252 unhoused individuals in the city in 2024 compared to 46,260 in 2023, a drop of 2.2%\n",
    "symbol\n",
    "\n",
    "\n",
    "\n",
    "Unsheltered homelessness decreased by approximately 10.7% - that's the first double-digit decrease in at least nine years, according to the city.\n",
    "38% decrease in makeshift shelters\n",
    "Shelter count increased by 17.7%\n",
    "\n",
    "\"For so many years, the count has shown increases in homelessness, and we have all felt that in our neighborhoods. But we leaned into change. And we have changed the trajectory of this crisis and have moved L.A. in a new direction,\" said Mayor Karen Bass in a statement. \"There is nothing we cannot do by taking on the status quo, putting politics aside, and rolling up our sleeves to work together. I want to thank the City Council, the County Board of Supervisors, LAHSA, our state, federal and community partners and our service provider partners for locking arms to confront this crisis with the urgency that it requires. This is not the end, it is the beginning - and we will build on this progress, together.\"\n",
    "\n",
    "What about homelessness in L.A. County?\n",
    "According to the report, there were 75,312 unhoused people in the county in 2024 compared to 75,518 in 2023, a dip of 0.27%;\n",
    "\n",
    "There was also a reduction in unsheltered homelessness in L.A. County, with a 5.1% decrease compared to last year, while the shelter count increased by 12.7%.\n",
    "\n",
    "Officials attributed the downward trends to \"unprecedented policy alignment and investments\" made by the city, county, state and federal governments, according to Paul Rubenstein, LAHSA deputy chief of external relations.\n",
    "\n",
    "With more unhoused individuals entering shelter or other forms of temporary housing, Rubenstein said, officials are \"cautiously optimistic about the direction of homelessness across L.A. County\" and are in a position to move more people off the streets and into permanent housing.\n",
    "\n",
    "\n",
    "L.A. County Supervisor Janice Hahn, meanwhile, released a statement saying, \"For the first time in years, the number of people sleeping on our streets is down and the number of people in our shelters is up. We have focused on shelters and we are doing a better job convincing people to come inside. The next step is building more permanent supportive housing and investing in long- term solutions to this crisis.\"\n",
    "\n",
    "The count also noted a reduction in chronic homelessness in the L.A. Continuum of Care, covering most of L.A. County except the cities of Long Beach, Pasadena and Glendale. There were 6.8% fewer people experiencing chronic homelessness -- a term used to describe individuals who have been homeless for more than a year while struggling with a disabling condition -- compared to 2023, the report said. Of those, some 9.4% were unsheltered while 7.5% more were in shelters.\n",
    "\n",
    "\"Our coordinated efforts are moving the needle and we have to stick together in addition to moving people into interim housing,\" Rubenstein said. \"The rehousing system also gained significant momentum this year. We made a breaking 28,000 permanent housing placements.\"\n",
    "\n",
    "He added, \"At this rate, if we could stop anyone else from becoming homeless today, we could end homelessness in just a few years.\"\n",
    "\n",
    "In addition, the 2024 count showed family homelessness increased by 2.2%, though many families are in temporary housing. Among transition-age youth -- individuals coming out of the foster system between the ages of 16-24 -- homelessness decreased by 16.2% and veteran homelessness decreased by 22.9%.\n",
    "\n",
    "\n",
    "LAHSA reported that about 22% of unhoused individuals report experiencing serious mental illness, while another 24% of unhoused individuals report experiencing substance use disorder -- both figures decreased compared to 2023 and 2022.\n",
    "\n",
    "Following the results of the 2023 Homeless Count, L.A county and city officials committed to a collaborative approach to reducing homelessness and bringing unhoused individuals into temporary and permanent housing.\n",
    "\n",
    "In December 2022, Bass launched her Inside Safe initiative in an effort to reduce tents and other encampments across city streets and bring unhoused individuals into temporary housing. Bass and the L.A. City Council have also implemented programs aimed at bolstering housing production, increasing shelter beds and sustaining tiny home villages, interim housing sites and other housing facilities with the intent of placing unhoused individuals into permanent housing.\n",
    "\n",
    "County officials launched a similar program to that of Inside Safe, known as Pathway Home, in 2023.\n",
    "\n",
    "LASHA officials noted that Measure HHH -- a $1.2 billion bond measure approved by L.A. voters in 2016 -- has played a significant role in building supportive and affordable housing, which in part led to the results seen in the 2024 Homeless Count.\n",
    "\n",
    "City News Service, Inc. contributed to this report.\"\"\""
   ]
  },
  {
   "cell_type": "code",
   "execution_count": 28,
   "metadata": {},
   "outputs": [
    {
     "name": "stderr",
     "output_type": "stream",
     "text": [
      "Hardware accelerator e.g. GPU is available in the environment, but no `device` argument is passed to the `Pipeline` object. Model will be on CPU.\n"
     ]
    },
    {
     "name": "stdout",
     "output_type": "stream",
     "text": [
      "[{'summary_text': 'Liana Barrientos, 39, is charged with two counts of \"offering a false instrument for filing in the first degree\" In total, she has been married 10 times, with nine of her marriages occurring between 1999 and 2002. She is believed to still be married to four men.'}]\n"
     ]
    }
   ],
   "source": [
    "from transformers import pipeline\n",
    "\n",
    "summarizer = pipeline(\"summarization\", model=\"facebook/bart-large-cnn\")\n",
    "\n",
    "ARTICLE = \"\"\" New York (CNN)When Liana Barrientos was 23 years old, she got married in Westchester County, New York.\n",
    "A year later, she got married again in Westchester County, but to a different man and without divorcing her first husband.\n",
    "Only 18 days after that marriage, she got hitched yet again. Then, Barrientos declared \"I do\" five more times, sometimes only within two weeks of each other.\n",
    "In 2010, she married once more, this time in the Bronx. In an application for a marriage license, she stated it was her \"first and only\" marriage.\n",
    "Barrientos, now 39, is facing two criminal counts of \"offering a false instrument for filing in the first degree,\" referring to her false statements on the\n",
    "2010 marriage license application, according to court documents.\n",
    "Prosecutors said the marriages were part of an immigration scam.\n",
    "On Friday, she pleaded not guilty at State Supreme Court in the Bronx, according to her attorney, Christopher Wright, who declined to comment further.\n",
    "After leaving court, Barrientos was arrested and charged with theft of service and criminal trespass for allegedly sneaking into the New York subway through an emergency exit, said Detective\n",
    "Annette Markowski, a police spokeswoman. In total, Barrientos has been married 10 times, with nine of her marriages occurring between 1999 and 2002.\n",
    "All occurred either in Westchester County, Long Island, New Jersey or the Bronx. She is believed to still be married to four men, and at one time, she was married to eight men at once, prosecutors say.\n",
    "Prosecutors said the immigration scam involved some of her husbands, who filed for permanent residence status shortly after the marriages.\n",
    "Any divorces happened only after such filings were approved. It was unclear whether any of the men will be prosecuted.\n",
    "The case was referred to the Bronx District Attorney\\'s Office by Immigration and Customs Enforcement and the Department of Homeland Security\\'s\n",
    "Investigation Division. Seven of the men are from so-called \"red-flagged\" countries, including Egypt, Turkey, Georgia, Pakistan and Mali.\n",
    "Her eighth husband, Rashid Rajput, was deported in 2006 to his native Pakistan after an investigation by the Joint Terrorism Task Force.\n",
    "If convicted, Barrientos faces up to four years in prison.  Her next court appearance is scheduled for May 18.\n",
    "\"\"\"\n",
    "print(summarizer(ARTICLE, max_length=130, min_length=30, do_sample=False))\n"
   ]
  },
  {
   "cell_type": "code",
   "execution_count": 29,
   "metadata": {},
   "outputs": [
    {
     "data": {
      "text/plain": [
       "'LOS ANGELES (KABC) -- Homelessness in the city of Los Angeles is down for the first time in six years, and this year is the first time the city has seen a double-digit decrease in street homelessness in nearly a decade.\\n\\nThe Los Angeles Homeless Services Authority, a joint powers agency of the city and county of L.A., announced the numbers from the Greater Los Angeles Homeless Count during a Friday morning news conference, detailing data that was gathered during an annual point-in-time survey conducted by hundreds of volunteers all across the region from Jan. 24- 26.\\n\\nTop results from 2024 homeless count for city of Los Angeles\\nHomelessness in L.A. is down for the first time in six years. There were 45,252 unhoused individuals in the city in 2024 compared to 46,260 in 2023, a drop of 2.2%\\nsymbol\\n\\n\\n\\nUnsheltered homelessness decreased by approximately 10.7% - that\\'s the first double-digit decrease in at least nine years, according to the city.\\n38% decrease in makeshift shelters\\nShelter count increased by 17.7%\\n\\n\"For so many years, the count has shown increases in homelessness, and we have all felt that in our neighborhoods. But we leaned into change. And we have changed the trajectory of this crisis and have moved L.A. in a new direction,\" said Mayor Karen Bass in a statement. \"There is nothing we cannot do by taking on the status quo, putting politics aside, and rolling up our sleeves to work together. I want to thank the City Council, the County Board of Supervisors, LAHSA, our state, federal and community partners and our service provider partners for locking arms to confront this crisis with the urgency that it requires. This is not the end, it is the beginning - and we will build on this progress, together.\"\\n\\nWhat about homelessness in L.A. County?\\nAccording to the report, there were 75,312 unhoused people in the county in 2024 compared to 75,518 in 2023, a dip of 0.27%;\\n\\nThere was also a reduction in unsheltered homelessness in L.A. County, with a 5.1% decrease compared to last year, while the shelter count increased by 12.7%.\\n\\nOfficials attributed the downward trends to \"unprecedented policy alignment and investments\" made by the city, county, state and federal governments, according to Paul Rubenstein, LAHSA deputy chief of external relations.\\n\\nWith more unhoused individuals entering shelter or other forms of temporary housing, Rubenstein said, officials are \"cautiously optimistic about the direction of homelessness across L.A. County\" and are in a position to move more people off the streets and into permanent housing.\\n\\n\\nL.A. County Supervisor Janice Hahn, meanwhile, released a statement saying, \"For the first time in years, the number of people sleeping on our streets is down and the number of people in our shelters is up. We have focused on shelters and we are doing a better job convincing people to come inside. The next step is building more permanent supportive housing and investing in long- term solutions to this crisis.\"\\n\\nThe count also noted a reduction in chronic homelessness in the L.A. Continuum of Care, covering most of L.A. County except the cities of Long Beach, Pasadena and Glendale. There were 6.8% fewer people experiencing chronic homelessness -- a term used to describe individuals who have been homeless for more than a year while struggling with a disabling condition -- compared to 2023, the report said. Of those, some 9.4% were unsheltered while 7.5% more were in shelters.\\n\\n\"Our coordinated efforts are moving the needle and we have to stick together in addition to moving people into interim housing,\" Rubenstein said. \"The rehousing system also gained significant momentum this year. We made a breaking 28,000 permanent housing placements.\"\\n\\nHe added, \"At this rate, if we could stop anyone else from becoming homeless today, we could end homelessness in just a few years.\"\\n\\nIn addition, the 2024 count showed family homelessness increased by 2.2%, though many families are in temporary housing. Among transition-age youth -- individuals coming out of the foster system between the ages of 16-24 -- homelessness decreased by 16.2% and veteran homelessness decreased by 22.9%.\\n\\n\\nLAHSA reported that about 22% of unhoused individuals report experiencing serious mental illness, while another 24% of unhoused individuals report experiencing substance use disorder -- both figures decreased compared to 2023 and 2022.\\n\\nFollowing the results of the 2023 Homeless Count, L.A county and city officials committed to a collaborative approach to reducing homelessness and bringing unhoused individuals into temporary and permanent housing.\\n\\nIn December 2022, Bass launched her Inside Safe initiative in an effort to reduce tents and other encampments across city streets and bring unhoused individuals into temporary housing. Bass and the L.A. City Council have also implemented programs aimed at bolstering housing production, increasing shelter beds and sustaining tiny home villages, interim housing sites and other housing facilities with the intent of placing unhoused individuals into permanent housing.\\n\\nCounty officials launched a similar program to that of Inside Safe, known as Pathway Home, in 2023.\\n\\nLASHA officials noted that Measure HHH -- a $1.2 billion bond measure approved by L.A. voters in 2016 -- has played a significant role in building supportive and affordable housing, which in part led to the results seen in the 2024 Homeless Count.\\n\\nCity News Service, Inc. contributed to this report.'"
      ]
     },
     "execution_count": 29,
     "metadata": {},
     "output_type": "execute_result"
    }
   ],
   "source": [
    "\"\"\"LOS ANGELES (KABC) -- Homelessness in the city of Los Angeles is down for the first time in six years, and this year is the first time the city has seen a double-digit decrease in street homelessness in nearly a decade.\n",
    "\n",
    "The Los Angeles Homeless Services Authority, a joint powers agency of the city and county of L.A., announced the numbers from the Greater Los Angeles Homeless Count during a Friday morning news conference, detailing data that was gathered during an annual point-in-time survey conducted by hundreds of volunteers all across the region from Jan. 24- 26.\n",
    "\n",
    "Top results from 2024 homeless count for city of Los Angeles\n",
    "Homelessness in L.A. is down for the first time in six years. There were 45,252 unhoused individuals in the city in 2024 compared to 46,260 in 2023, a drop of 2.2%\n",
    "symbol\n",
    "\n",
    "\n",
    "\n",
    "Unsheltered homelessness decreased by approximately 10.7% - that's the first double-digit decrease in at least nine years, according to the city.\n",
    "38% decrease in makeshift shelters\n",
    "Shelter count increased by 17.7%\n",
    "\n",
    "\"For so many years, the count has shown increases in homelessness, and we have all felt that in our neighborhoods. But we leaned into change. And we have changed the trajectory of this crisis and have moved L.A. in a new direction,\" said Mayor Karen Bass in a statement. \"There is nothing we cannot do by taking on the status quo, putting politics aside, and rolling up our sleeves to work together. I want to thank the City Council, the County Board of Supervisors, LAHSA, our state, federal and community partners and our service provider partners for locking arms to confront this crisis with the urgency that it requires. This is not the end, it is the beginning - and we will build on this progress, together.\"\n",
    "\n",
    "What about homelessness in L.A. County?\n",
    "According to the report, there were 75,312 unhoused people in the county in 2024 compared to 75,518 in 2023, a dip of 0.27%;\n",
    "\n",
    "There was also a reduction in unsheltered homelessness in L.A. County, with a 5.1% decrease compared to last year, while the shelter count increased by 12.7%.\n",
    "\n",
    "Officials attributed the downward trends to \"unprecedented policy alignment and investments\" made by the city, county, state and federal governments, according to Paul Rubenstein, LAHSA deputy chief of external relations.\n",
    "\n",
    "With more unhoused individuals entering shelter or other forms of temporary housing, Rubenstein said, officials are \"cautiously optimistic about the direction of homelessness across L.A. County\" and are in a position to move more people off the streets and into permanent housing.\n",
    "\n",
    "\n",
    "L.A. County Supervisor Janice Hahn, meanwhile, released a statement saying, \"For the first time in years, the number of people sleeping on our streets is down and the number of people in our shelters is up. We have focused on shelters and we are doing a better job convincing people to come inside. The next step is building more permanent supportive housing and investing in long- term solutions to this crisis.\"\n",
    "\n",
    "The count also noted a reduction in chronic homelessness in the L.A. Continuum of Care, covering most of L.A. County except the cities of Long Beach, Pasadena and Glendale. There were 6.8% fewer people experiencing chronic homelessness -- a term used to describe individuals who have been homeless for more than a year while struggling with a disabling condition -- compared to 2023, the report said. Of those, some 9.4% were unsheltered while 7.5% more were in shelters.\n",
    "\n",
    "\"Our coordinated efforts are moving the needle and we have to stick together in addition to moving people into interim housing,\" Rubenstein said. \"The rehousing system also gained significant momentum this year. We made a breaking 28,000 permanent housing placements.\"\n",
    "\n",
    "He added, \"At this rate, if we could stop anyone else from becoming homeless today, we could end homelessness in just a few years.\"\n",
    "\n",
    "In addition, the 2024 count showed family homelessness increased by 2.2%, though many families are in temporary housing. Among transition-age youth -- individuals coming out of the foster system between the ages of 16-24 -- homelessness decreased by 16.2% and veteran homelessness decreased by 22.9%.\n",
    "\n",
    "\n",
    "LAHSA reported that about 22% of unhoused individuals report experiencing serious mental illness, while another 24% of unhoused individuals report experiencing substance use disorder -- both figures decreased compared to 2023 and 2022.\n",
    "\n",
    "Following the results of the 2023 Homeless Count, L.A county and city officials committed to a collaborative approach to reducing homelessness and bringing unhoused individuals into temporary and permanent housing.\n",
    "\n",
    "In December 2022, Bass launched her Inside Safe initiative in an effort to reduce tents and other encampments across city streets and bring unhoused individuals into temporary housing. Bass and the L.A. City Council have also implemented programs aimed at bolstering housing production, increasing shelter beds and sustaining tiny home villages, interim housing sites and other housing facilities with the intent of placing unhoused individuals into permanent housing.\n",
    "\n",
    "County officials launched a similar program to that of Inside Safe, known as Pathway Home, in 2023.\n",
    "\n",
    "LASHA officials noted that Measure HHH -- a $1.2 billion bond measure approved by L.A. voters in 2016 -- has played a significant role in building supportive and affordable housing, which in part led to the results seen in the 2024 Homeless Count.\n",
    "\n",
    "City News Service, Inc. contributed to this report.\"\"\""
   ]
  },
  {
   "cell_type": "code",
   "execution_count": 33,
   "metadata": {},
   "outputs": [
    {
     "name": "stderr",
     "output_type": "stream",
     "text": [
      "Hardware accelerator e.g. GPU is available in the environment, but no `device` argument is passed to the `Pipeline` object. Model will be on CPU.\n",
      "Your max_length is set to 130, but your input_length is only 110. Since this is a summarization task, where outputs shorter than the input are typically wanted, you might consider decreasing max_length manually, e.g. summarizer('...', max_length=55)\n"
     ]
    },
    {
     "name": "stdout",
     "output_type": "stream",
     "text": [
      "This is the first time the city has seen a double-digit decrease in street homelessness in nearly a decade. The Los Angeles Homeless Services Authority announced the numbers on Friday. There were 45,252 unhoused individuals in the city in 2024 compared to 46,260 in 2023, a drop of 2.2%. Unsheltered homelessness decreased by approximately 10.7% - that's the first double-digit decrease in at least nine years.\n"
     ]
    }
   ],
   "source": [
    "from transformers import pipeline\n",
    "\n",
    "summarizer = pipeline(\"summarization\", model=\"facebook/bart-large-cnn\")\n",
    "\n",
    "def summarize_article(article, chunk_size=512):\n",
    "    article_length = len(article.split())\n",
    "    chunks = [article[i:i + chunk_size] for i in range(0, article_length, chunk_size)]\n",
    "    summaries = [summarizer(chunk, max_length=130, min_length=30, do_sample=False)[0]['summary_text'] for chunk in chunks]\n",
    "    return \" \".join(summaries)\n",
    "\n",
    "ARTICLE =\"\"\"LOS ANGELES (KABC) -- Homelessness in the city of Los Angeles is down for the first time in six years, and this year is the first time the city has seen a double-digit decrease in street homelessness in nearly a decade.\n",
    "\n",
    "The Los Angeles Homeless Services Authority, a joint powers agency of the city and county of L.A., announced the numbers from the Greater Los Angeles Homeless Count during a Friday morning news conference, detailing data that was gathered during an annual point-in-time survey conducted by hundreds of volunteers all across the region from Jan. 24- 26.\n",
    "\n",
    "Top results from 2024 homeless count for city of Los Angeles\n",
    "Homelessness in L.A. is down for the first time in six years. There were 45,252 unhoused individuals in the city in 2024 compared to 46,260 in 2023, a drop of 2.2%\n",
    "symbol\n",
    "\n",
    "\n",
    "\n",
    "Unsheltered homelessness decreased by approximately 10.7% - that's the first double-digit decrease in at least nine years, according to the city.\n",
    "38% decrease in makeshift shelters\n",
    "Shelter count increased by 17.7%\n",
    "\n",
    "\"For so many years, the count has shown increases in homelessness, and we have all felt that in our neighborhoods. But we leaned into change. And we have changed the trajectory of this crisis and have moved L.A. in a new direction,\" said Mayor Karen Bass in a statement. \"There is nothing we cannot do by taking on the status quo, putting politics aside, and rolling up our sleeves to work together. I want to thank the City Council, the County Board of Supervisors, LAHSA, our state, federal and community partners and our service provider partners for locking arms to confront this crisis with the urgency that it requires. This is not the end, it is the beginning - and we will build on this progress, together.\"\n",
    "\n",
    "What about homelessness in L.A. County?\n",
    "According to the report, there were 75,312 unhoused people in the county in 2024 compared to 75,518 in 2023, a dip of 0.27%;\n",
    "\n",
    "There was also a reduction in unsheltered homelessness in L.A. County, with a 5.1% decrease compared to last year, while the shelter count increased by 12.7%.\n",
    "\n",
    "Officials attributed the downward trends to \"unprecedented policy alignment and investments\" made by the city, county, state and federal governments, according to Paul Rubenstein, LAHSA deputy chief of external relations.\n",
    "\n",
    "With more unhoused individuals entering shelter or other forms of temporary housing, Rubenstein said, officials are \"cautiously optimistic about the direction of homelessness across L.A. County\" and are in a position to move more people off the streets and into permanent housing.\n",
    "\n",
    "\n",
    "L.A. County Supervisor Janice Hahn, meanwhile, released a statement saying, \"For the first time in years, the number of people sleeping on our streets is down and the number of people in our shelters is up. We have focused on shelters and we are doing a better job convincing people to come inside. The next step is building more permanent supportive housing and investing in long- term solutions to this crisis.\"\n",
    "\n",
    "The count also noted a reduction in chronic homelessness in the L.A. Continuum of Care, covering most of L.A. County except the cities of Long Beach, Pasadena and Glendale. There were 6.8% fewer people experiencing chronic homelessness -- a term used to describe individuals who have been homeless for more than a year while struggling with a disabling condition -- compared to 2023, the report said. Of those, some 9.4% were unsheltered while 7.5% more were in shelters.\n",
    "\n",
    "\"Our coordinated efforts are moving the needle and we have to stick together in addition to moving people into interim housing,\" Rubenstein said. \"The rehousing system also gained significant momentum this year. We made a breaking 28,000 permanent housing placements.\"\n",
    "\n",
    "He added, \"At this rate, if we could stop anyone else from becoming homeless today, we could end homelessness in just a few years.\"\n",
    "\n",
    "In addition, the 2024 count showed family homelessness increased by 2.2%, though many families are in temporary housing. Among transition-age youth -- individuals coming out of the foster system between the ages of 16-24 -- homelessness decreased by 16.2% and veteran homelessness decreased by 22.9%.\n",
    "\n",
    "\n",
    "LAHSA reported that about 22% of unhoused individuals report experiencing serious mental illness, while another 24% of unhoused individuals report experiencing substance use disorder -- both figures decreased compared to 2023 and 2022.\n",
    "\n",
    "Following the results of the 2023 Homeless Count, L.A county and city officials committed to a collaborative approach to reducing homelessness and bringing unhoused individuals into temporary and permanent housing.\n",
    "\n",
    "In December 2022, Bass launched her Inside Safe initiative in an effort to reduce tents and other encampments across city streets and bring unhoused individuals into temporary housing. Bass and the L.A. City Council have also implemented programs aimed at bolstering housing production, increasing shelter beds and sustaining tiny home villages, interim housing sites and other housing facilities with the intent of placing unhoused individuals into permanent housing.\n",
    "\n",
    "County officials launched a similar program to that of Inside Safe, known as Pathway Home, in 2023.\n",
    "\n",
    "LASHA officials noted that Measure HHH -- a $1.2 billion bond measure approved by L.A. voters in 2016 -- has played a significant role in building supportive and affordable housing, which in part led to the results seen in the 2024 Homeless Count.\n",
    "\n",
    "City News Service, Inc. contributed to this report.\"\"\"\n",
    "\n",
    "print(summarize_article(ARTICLE))\n"
   ]
  },
  {
   "cell_type": "code",
   "execution_count": null,
   "metadata": {},
   "outputs": [],
   "source": []
  }
 ],
 "metadata": {
  "kernelspec": {
   "display_name": "venv",
   "language": "python",
   "name": "python3"
  },
  "language_info": {
   "codemirror_mode": {
    "name": "ipython",
    "version": 3
   },
   "file_extension": ".py",
   "mimetype": "text/x-python",
   "name": "python",
   "nbconvert_exporter": "python",
   "pygments_lexer": "ipython3",
   "version": "3.9.13"
  }
 },
 "nbformat": 4,
 "nbformat_minor": 2
}
